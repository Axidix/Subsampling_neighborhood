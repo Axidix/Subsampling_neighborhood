{
 "cells": [
  {
   "cell_type": "code",
   "execution_count": 1,
   "id": "51b2eca6",
   "metadata": {},
   "outputs": [],
   "source": [
    "import numpy as np\n",
    "import time"
   ]
  },
  {
   "cell_type": "code",
   "execution_count": 2,
   "id": "48d08089",
   "metadata": {},
   "outputs": [],
   "source": [
    "def distance(i,j):\n",
    "    \"\"\"Returns the distance between two points of R²\"\"\"\n",
    "\n",
    "    d_2 = (i[0]-j[0])**2 + (i[1]-j[1])**2\n",
    "    return np.sqrt(d_2)"
   ]
  },
  {
   "cell_type": "code",
   "execution_count": 3,
   "id": "14e9b65c",
   "metadata": {},
   "outputs": [],
   "source": [
    "def check_neighbors(P, i, j):\n",
    "    \"\"\"Returns True if the points i,j of R² are neighbors according to the list of points P.\n",
    "    Assumes that i!=j. Complexity is O(len(P))\"\"\"\n",
    "    \n",
    "    d_ij = distance(i,j)\n",
    "    \n",
    "    for k in P:\n",
    "        if (i==k or k==j) : continue\n",
    "        if(max(distance(i,k), distance(k,j)) < d_ij): return False\n",
    "    else:   # If the for loop isn't broken\n",
    "        return True"
   ]
  },
  {
   "cell_type": "code",
   "execution_count": 4,
   "id": "df8ea732",
   "metadata": {},
   "outputs": [],
   "source": [
    "def find_closest(P,i):\n",
    "    \"\"\"Finds the closest point to i in the list P in O(len(P))\"\"\"\n",
    "    \n",
    "    d_min = float('inf')\n",
    "    ind_closest = 0\n",
    "    \n",
    "    for l, j in enumerate(P):\n",
    "        if i==j: continue\n",
    "        d = distance(i, j)\n",
    "        if d < d_min:\n",
    "            closest = j\n",
    "            d_min = d\n",
    "            ind_closest = l\n",
    "            \n",
    "    return(closest,ind_closest)"
   ]
  },
  {
   "cell_type": "code",
   "execution_count": 5,
   "id": "babf37ab",
   "metadata": {},
   "outputs": [],
   "source": [
    "def naive_neighbors(P):\n",
    "    \"\"\"Takes as entry a list P of points in R² and compute naively the graph of the neighbors, e.g \n",
    "    finds all neighbors for each point in P in a simple but non-efficient way. Complexity is cubic in len(P)\"\"\"\n",
    "\n",
    "    graph = []\n",
    "\n",
    "    for m,i in enumerate(P):\n",
    "        graph.append(set())    # Set of neighbors of point i\n",
    "        for j in P: \n",
    "            if (i==j) : continue\n",
    "            if check_neighbors(P, i, j): graph[m].add(j)\n",
    "            \n",
    "    return graph"
   ]
  },
  {
   "cell_type": "code",
   "execution_count": 6,
   "id": "528f5a3e",
   "metadata": {},
   "outputs": [],
   "source": [
    "def find_neighbors_linear(P, p):\n",
    "    \"\"\"Uses the method described in Task 6 to achieve a quadratic complexity to find the graph,\n",
    "    but only applied to a single vertex.\"\"\"\n",
    "    \n",
    "    P_copy = P.copy()\n",
    "    P_copy.remove(p)\n",
    "    \n",
    "    potential_neighbors = []\n",
    "    true_nghbr = set()\n",
    "    \n",
    "    # Finding potential neighbors    \n",
    "    while (len(P_copy) > 0):\n",
    "        q, index = find_closest(P_copy, p)              \n",
    "        potential_neighbors.append(q)\n",
    "        P_copy.pop(index)\n",
    "        \n",
    "        for index, r in enumerate(P_copy):\n",
    "            if (distance(p,r) > distance(r,q)): P_copy.pop(index)\n",
    "            \n",
    "    # We now need to check whether the elements are true neighbors of p\n",
    "    for j in potential_neighbors:\n",
    "        if check_neighbors(P, p, j): true_nghbr.add(j)\n",
    "\n",
    "    # print(\"potential :\", potential_neighbors)\n",
    "    # print(\"true neighbors : \", true_nghbr)\n",
    "    \n",
    "    return true_nghbr"
   ]
  },
  {
   "cell_type": "code",
   "execution_count": 7,
   "id": "0d245e28",
   "metadata": {},
   "outputs": [],
   "source": [
    "def quadra_algo_neighbors(P):\n",
    "    \"\"\"Enhanced version of the naive algorithm, finding the neighbors graph in quadratic complexity.\"\"\"\n",
    "    \n",
    "    graph = []\n",
    "    for p in P:\n",
    "        graph.append(find_neighbors_linear(P, p))  \n",
    "        \n",
    "    return graph"
   ]
  },
  {
   "cell_type": "code",
   "execution_count": 8,
   "id": "24df805f",
   "metadata": {},
   "outputs": [],
   "source": [
    "def update_graph(graph, P, p):\n",
    "    \"\"\"Updates the graph with the addition of point p to the set of vertices P.\n",
    "    We need to find the neighbors of p and to check if the previous neighbors remain.\"\"\"\n",
    "    \n",
    "    new_P = P + [p]\n",
    "    \n",
    "    # We first check the existing edges\n",
    "    for k in range(len(P)):\n",
    "      i = P[k]\n",
    "      for j in graph[k].copy():\n",
    "          if not(check_neighbors(new_P, i, j)): graph[k].remove(j)\n",
    "          \n",
    "    \n",
    "    # Then we find the neighbors of p\n",
    "    # Not forgetting to add the new edges to both vertices set of neighbors\n",
    "    nghbr_p = find_neighbors_linear(new_P, p)\n",
    "    graph.append(nghbr_p)\n",
    "    for i in nghbr_p:\n",
    "        graph[P.index(i)].add(p) # This line is costly beacuse we have to find the position of the neighbor in P\n",
    "        \n",
    "    # return graph"
   ]
  },
  {
   "cell_type": "code",
   "execution_count": 9,
   "id": "add65a22",
   "metadata": {},
   "outputs": [],
   "source": [
    "def graph_via_update(P):\n",
    "    \"\"\"Creates the neighborhood graph using the update_graph function. len(P) should be greater than 2\"\"\"\n",
    "    \n",
    "    graph = [set()]\n",
    "    \n",
    "    for i in range(1,len(P)):\n",
    "        update_graph(graph, P[:i], P[i])\n",
    "        \n",
    "    return graph"
   ]
  }
 ],
 "metadata": {
  "kernelspec": {
   "display_name": "Python 3 (ipykernel)",
   "language": "python",
   "name": "python3"
  },
  "language_info": {
   "codemirror_mode": {
    "name": "ipython",
    "version": 3
   },
   "file_extension": ".py",
   "mimetype": "text/x-python",
   "name": "python",
   "nbconvert_exporter": "python",
   "pygments_lexer": "ipython3",
   "version": "3.11.4"
  }
 },
 "nbformat": 4,
 "nbformat_minor": 5
}
